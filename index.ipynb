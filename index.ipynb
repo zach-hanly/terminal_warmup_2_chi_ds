{
 "cells": [
  {
   "cell_type": "markdown",
   "metadata": {},
   "source": [
    "In this warmup we are going to exercise your newly gained terminal powers.  Open a terminal window, and navigate to where this readme lives.  Then, follow the instructions below."
   ]
  },
  {
   "cell_type": "markdown",
   "metadata": {},
   "source": [
    "1. Navigate to folder_4 which lives somewhere in folder_1. Use cd\n",
    "\n",
    "2. Navigate up one directory to folder_3 using ..\n",
    "\n",
    "3. Create a text file named your_name_here.txt using touch\n",
    "\n",
    "4. Add your name and favorite food to the text file\n",
    "\n",
    "5. Move the file to folder_2\n",
    "\n",
    "6. Copy and move the file to folder_4\n",
    "\n",
    "7. Remove the file from folder_2\n",
    "\n",
    "8. Navigate to root directory\n",
    "\n",
    "9. Use find to print out the path of your file\n",
    "\n",
    "10. Navigate to the warmup directory. Make a new copy of folder_1 and all of its subdirectories, and rename it folder_1_copy. Then, delete folder_1 and all of its subdirectories.\n"
   ]
  },
  {
   "cell_type": "code",
   "execution_count": null,
   "metadata": {},
   "outputs": [],
   "source": [
    "completed "
   ]
  }
 ],
 "metadata": {
  "kernelspec": {
   "display_name": "Python 3",
   "language": "python",
   "name": "python3"
  },
  "language_info": {
   "codemirror_mode": {
    "name": "ipython",
    "version": 3
   },
   "file_extension": ".py",
   "mimetype": "text/x-python",
   "name": "python",
   "nbconvert_exporter": "python",
   "pygments_lexer": "ipython3",
   "version": "3.8.5"
  }
 },
 "nbformat": 4,
 "nbformat_minor": 4
}
